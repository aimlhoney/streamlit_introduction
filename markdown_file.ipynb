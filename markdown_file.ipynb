{
 "cells": [
  {
   "metadata": {},
   "cell_type": "markdown",
   "source": "### Steps to Install and Run Nginx",
   "id": "2bd07982af444bc4"
  },
  {
   "metadata": {},
   "cell_type": "markdown",
   "source": "#### 1. Install Nginx",
   "id": "93690ebb162410f6"
  },
  {
   "metadata": {},
   "cell_type": "markdown",
   "source": "- brew install nginx",
   "id": "ca1ad83726d76a6d"
  },
  {
   "metadata": {},
   "cell_type": "markdown",
   "source": "#### 2. Run And Reload",
   "id": "9038963d6e90c40"
  },
  {
   "metadata": {},
   "cell_type": "markdown",
   "source": [
    "- sudo nginx to run\n",
    "- sudo nginx -s reload to restart"
   ],
   "id": "13f77558ccd12733"
  },
  {
   "metadata": {},
   "cell_type": "markdown",
   "source": "#### 3. Load the config file",
   "id": "8ee03fb4a5829413"
  },
  {
   "metadata": {},
   "cell_type": "markdown",
   "source": "- /opt/homebrew/etc/nginx/nginx.conf",
   "id": "c6650804d05057a3"
  },
  {
   "metadata": {},
   "cell_type": "markdown",
   "source": "#### 4. Config Setup",
   "id": "3673a1325d127a53"
  },
  {
   "metadata": {},
   "cell_type": "markdown",
   "source": [
    "<pre>\n",
    "server {\n",
    "        listen 8080;\n",
    "        server_name localhost;\n",
    "\n",
    "        # Serve static files (if any) or default homepage\n",
    "        location / {\n",
    "            proxy_pass http://127.0.0.1:8502;  # Proxy requests to Streamlit app\n",
    "            proxy_set_header Host $host;\n",
    "            proxy_set_header X-Real-IP $remote_addr;\n",
    "            proxy_set_header X-Forwarded-For $proxy_add_x_forwarded_for;\n",
    "            proxy_set_header X-Forwarded-Proto $scheme;\n",
    "            proxy_set_header Upgrade $http_upgrade;\n",
    "            proxy_set_header Connection \"upgrade\";\n",
    "            proxy_http_version 1.1;\n",
    "            proxy_set_header Connection keep-alive;\n",
    "            proxy_read_timeout 1000;  # Increase timeout\n",
    "            proxy_send_timeout 1000;  # Increase timeout\n",
    "        }\n",
    "\n",
    "        # Error pages\n",
    "        error_page 500 502 503 504 /50x.html;\n",
    "        location = /50x.html {\n",
    "            root html;\n",
    "        }\n",
    "\n",
    "        # Optional: You can serve static files or fallback pages here if needed\n",
    "        # location /static/ {\n",
    "        #     root /path/to/static/files;\n",
    "        # }\n",
    "\n",
    "        # Optional: Protect against unwanted access to sensitive files\n",
    "        # location ~ /\\.ht {\n",
    "        #     deny all;\n",
    "        # }\n",
    "    }\n",
    "</pre>"
   ],
   "id": "5c264886b652872c"
  },
  {
   "metadata": {},
   "cell_type": "markdown",
   "source": "### Streamlit Setup",
   "id": "28d1ef5ae5a06efa"
  },
  {
   "metadata": {},
   "cell_type": "code",
   "outputs": [],
   "execution_count": null,
   "source": "",
   "id": "45f82f3b5e165ca1"
  }
 ],
 "metadata": {
  "kernelspec": {
   "display_name": "Python 3",
   "language": "python",
   "name": "python3"
  },
  "language_info": {
   "codemirror_mode": {
    "name": "ipython",
    "version": 2
   },
   "file_extension": ".py",
   "mimetype": "text/x-python",
   "name": "python",
   "nbconvert_exporter": "python",
   "pygments_lexer": "ipython2",
   "version": "2.7.6"
  }
 },
 "nbformat": 4,
 "nbformat_minor": 5
}
